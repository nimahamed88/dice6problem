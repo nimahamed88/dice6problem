{
 "cells": [
  {
   "cell_type": "code",
   "execution_count": null,
   "metadata": {},
   "outputs": [],
   "source": [
    "import matplotlib.pyplot as plt\n",
    "import numpy as np\n",
    "from bidi.algorithm import get_display\n",
    "import arabic_reshaper\n",
    "from random import randrange\n",
    "from statistics import mean\n",
    "def Average(A):\n",
    "    return mean(A)\n",
    "a = 0\n",
    "A = []\n",
    "q = int(input('how many people? '))\n",
    "for x in range(q):\n",
    "    i = 1\n",
    "    while True:\n",
    "        n = randrange(1,7)\n",
    "        #print(i , ':' , n)\n",
    "        if n == 6:\n",
    "            #print(i , ':' , n)\n",
    "            #print(i)\n",
    "            A.append(i)\n",
    "            break\n",
    "        i+=1\n",
    "#print(A)\n",
    "average = Average(A)\n",
    "weights = np.ones_like(A) / q \n",
    "print('The average is: ' , average)\n",
    "print('The max number is: ', max(A))\n",
    "plt.hist(A, max(A) , weights=weights)\n",
    "reshaped_text1 = arabic_reshaper.reshape(u'شماره تاس ۶')\n",
    "artext1 = get_display(reshaped_text1)\n",
    "reshaped_text = arabic_reshaper.reshape(u'احتمال')\n",
    "artext = get_display(reshaped_text)\n",
    "plt.xlabel(artext1)\n",
    "plt.ylabel(artext)\n",
    "plt.show()"
   ]
  },
  {
   "cell_type": "code",
   "execution_count": null,
   "metadata": {},
   "outputs": [],
   "source": []
  }
 ],
 "metadata": {
  "kernelspec": {
   "display_name": "Python 3",
   "language": "python",
   "name": "python3"
  },
  "language_info": {
   "codemirror_mode": {
    "name": "ipython",
    "version": 3
   },
   "file_extension": ".py",
   "mimetype": "text/x-python",
   "name": "python",
   "nbconvert_exporter": "python",
   "pygments_lexer": "ipython3",
   "version": "3.7.6"
  }
 },
 "nbformat": 4,
 "nbformat_minor": 4
}
