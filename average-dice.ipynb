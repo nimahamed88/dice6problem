{
 "cells": [
  {
   "cell_type": "code",
   "execution_count": 49,
   "metadata": {},
   "outputs": [],
   "source": []
  },
  {
   "cell_type": "code",
   "execution_count": null,
   "metadata": {},
   "outputs": [],
   "source": [
    "import matplotlib.pyplot as plt\n",
    "import numpy as np\n",
    "from bidi.algorithm import get_display\n",
    "import arabic_reshaper\n",
    "from random import randrange\n",
    "from statistics import mean\n",
    "def Average(A):\n",
    "    return mean(A)\n",
    "a = 0\n",
    "A = []\n",
    "q = int(input('how many people? '))\n",
    "for x in range(q):\n",
    "    i = 1\n",
    "    while True:\n",
    "        n = randrange(1,7)\n",
    "        #print(i , ':' , n)\n",
    "        if n == 6:\n",
    "            #print(i , ':' , n)\n",
    "            #print(i)\n",
    "            A.append(i)\n",
    "            break\n",
    "        i+=1\n",
    "#print(A)\n",
    "average = Average(A)\n",
    "weights = np.ones_like(A) / q \n",
    "print('The average is: ' , average)\n",
    "print('The max number is: ', max(A))\n",
    "plt.hist(A, max(A) , weights=weights)\n",
    "reshaped_text1 = arabic_reshaper.reshape(u'شماره تاس ۶')\n",
    "artext1 = get_display(reshaped_text1)\n",
    "reshaped_text = arabic_reshaper.reshape(u'احتمال')\n",
    "artext = get_display(reshaped_text)\n",
    "plt.xlabel(artext1)\n",
    "plt.ylabel(artext)\n",
    "plt.show()"
   ]
  },
  {
   "cell_type": "code",
   "execution_count": 39,
   "metadata": {},
   "outputs": [
    {
     "name": "stdout",
     "output_type": "stream",
     "text": [
      "how many people? 10000\n",
      "6.0162\n",
      "probability of 1 is: 0.1728\n"
     ]
    }
   ],
   "source": [
    "from random import randrange\n",
    "import numpy as np\n",
    "from statistics import mean\n",
    "def Average(A):\n",
    "    return mean(A)\n",
    "A = []\n",
    "q = int(input('how many people? '))\n",
    "for x in range(q):\n",
    "    i = 1\n",
    "    while True:\n",
    "        n = randrange(1,7)\n",
    "        #print(i , ':' , n)\n",
    "        if n == 6:\n",
    "            #print(i , ':' , n)\n",
    "            #print(i)\n",
    "            A.append(i)\n",
    "            if i == 1:\n",
    "                a+=1\n",
    "            break\n",
    "        i+=1\n",
    "#print(A)\n",
    "average = Average(A)\n",
    "print(average)\n",
    "#print(1 , ':' , a)\n",
    "print('probability of 1 is:' , a/q )\n"
   ]
  },
  {
   "cell_type": "code",
   "execution_count": 58,
   "metadata": {},
   "outputs": [
    {
     "name": "stdout",
     "output_type": "stream",
     "text": [
      "0\n",
      "1\n",
      "2\n",
      "3\n",
      "4\n",
      "5\n"
     ]
    }
   ],
   "source": [
    "from random import randrange\n",
    "from statistics import mean\n",
    "def Average(A):\n",
    "    return mean(A)\n",
    "a = 0\n",
    "b = 0\n",
    "c = 0\n",
    "d = 0\n",
    "e = 0\n",
    "f = 0\n",
    "g = 0 \n",
    "h = 0 \n",
    "j = 0\n",
    "k = 0\n",
    "l = 0\n",
    "m = 0\n",
    "p = 0\n",
    "A = []\n",
    "for x in range(10000):\n",
    "    i = 1\n",
    "    while True:\n",
    "        n = randrange(1,7)\n",
    "        #print(i , ':' , n)\n",
    "        if n == 6:\n",
    "            #print(i)\n",
    "            if i == 1:\n",
    "                a+=1\n",
    "            elif i == 2:\n",
    "                b+=1\n",
    "            elif i == 3:\n",
    "                c+=1\n",
    "            elif i == 4:\n",
    "                d+=1\n",
    "            elif i == 5:\n",
    "                e+=1\n",
    "            elif i == 6:\n",
    "                f+=1\n",
    "            elif i == 7:\n",
    "                g+=1\n",
    "            elif i == 8:\n",
    "                h+=1\n",
    "            elif i == 9:\n",
    "                k+=1\n",
    "            elif i == 10:\n",
    "                j+=1\n",
    "            elif i == 11:\n",
    "                m+=1\n",
    "            elif i == 100:\n",
    "                p +=1\n",
    "            A.append(i)\n",
    "            break\n",
    "        i+=1\n",
    "#print(A)\n",
    "average = Average(A)\n",
    "print(average)\n",
    "print(1 , ':' , a)\n",
    "print(2 , ':' , b)\n",
    "print(3 , ':' , c)\n",
    "print(4 , ':' , d)\n",
    "print(5 , ':' , e)\n",
    "print(6 , ':' , f)\n",
    "print(7 , ':' , g)\n",
    "print(8 , ':' , h)\n",
    "print(9 , ':' , j)\n",
    "print(10 , ':' , k)\n",
    "print(11 , ':' , m)\n",
    "print(100 , ':' , p)"
   ]
  },
  {
   "cell_type": "code",
   "execution_count": 22,
   "metadata": {},
   "outputs": [
    {
     "data": {
      "image/png": "[encoded data removed]",
      "text/plain": [
       "<Figure size 432x288 with 1 Axes>"
      ]
     },
     "metadata": {
      "needs_background": "light"
     },
     "output_type": "display_data"
    }
   ],
   "source": [
    "from numpy import random\n",
    "import matplotlib.pyplot as plt\n",
    "import seaborn as sns\n",
    "\n",
    "sns.distplot(random.chisquare(df=1, size=1000), hist=False)\n",
    "\n",
    "plt.show()"
   ]
  },
  {
   "cell_type": "code",
   "execution_count": 25,
   "metadata": {},
   "outputs": [
    {
     "data": {
      "image/png": "[encoded data removed]",
      "text/plain": [
       "<Figure size 432x288 with 1 Axes>"
      ]
     },
     "metadata": {
      "needs_background": "light"
     },
     "output_type": "display_data"
    }
   ],
   "source": [
    "import matplotlib.pyplot as plt\n",
    "import seaborn as sns\n",
    "\n",
    "sns.distplot([0, 1, 2, 3, 4, 5])\n",
    "\n",
    "plt.show()"
   ]
  },
  {
   "cell_type": "code",
   "execution_count": 42,
   "metadata": {},
   "outputs": [
    {
     "data": {
      "image/png": "[encoded data removed]",
      "text/plain": [
       "<Figure size 432x288 with 1 Axes>"
      ]
     },
     "metadata": {
      "needs_background": "light"
     },
     "output_type": "display_data"
    }
   ],
   "source": [
    "import matplotlib.pyplot as plt\n",
    " \n",
    "x = [1,1,2,3,3,5,7,8,9,10,\n",
    "     10,11,11,13,13,15,16,17,18,18,\n",
    "     18,19,20,21,21,23,24,24,25,25,\n",
    "     25,25,26,26,26,27,27,27,27,27,\n",
    "     29,30,30,31,33,34,34,34,35,36,\n",
    "     36,37,37,38,38,39,40,41,41,42,\n",
    "     43,44,45,45,46,47,48,48,49,50,\n",
    "     51,52,53,54,55,55,56,57,58,60,\n",
    "     61,63,64,65,66,68,70,71,72,74,\n",
    "     75,77,81,83,84,87,89,90,90,91\n",
    "     ]\n",
    "\n",
    "plt.hist(x, bins=100)\n",
    "plt.show()"
   ]
  },
  {
   "cell_type": "code",
   "execution_count": null,
   "metadata": {},
   "outputs": [],
   "source": []
  }
 ],
 "metadata": {
  "kernelspec": {
   "display_name": "Python 3",
   "language": "python",
   "name": "python3"
  },
  "language_info": {
   "codemirror_mode": {
    "name": "ipython",
    "version": 3
   },
   "file_extension": ".py",
   "mimetype": "text/x-python",
   "name": "python",
   "nbconvert_exporter": "python",
   "pygments_lexer": "ipython3",
   "version": "3.7.6"
  }
 },
 "nbformat": 4,
 "nbformat_minor": 4
}
